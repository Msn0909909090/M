{
  "license": "Licensed under the Apache License, Version 2.0",
  "copyright": "Copyright 2020 Google LLC",
  "nbformat": 4,
  "nbformat_minor": 0,
  "metadata": {
    "colab": {
      "name": "Airflow Composer Example",
      "provenance": [],
      "collapsed_sections": [],
      "toc_visible": true
    },
    "kernelspec": {
      "name": "python3",
      "display_name": "Python 3"
    }
  },
  "cells": [
    {
      "cell_type": "markdown",
      "metadata": {
        "id": "66975503-001",
        "colab_type": "text"
      },
      "source": [
        "#1. Install Dependencies\n",
        "First install the libraries needed to execute recipes, this only needs to be done once, then click play.\n"
      ]
    },
    {
      "cell_type": "code",
      "metadata": {
        "id": "66975503-002",
        "colab_type": "code"
      },
      "source": [
        "!pip install git+https://github.com/google/starthinker\n"
      ]
    },
    {
      "cell_type": "markdown",
      "metadata": {
        "id": "66975503-003",
        "colab_type": "text"
      },
      "source": [
        "#2. Get Cloud Project ID\n",
        "To run this recipe [requires a Google Cloud Project](https://github.com/google/starthinker/blob/master/tutorials/cloud_project.md), this only needs to be done once, then click play.\n"
      ]
    },
    {
      "cell_type": "code",
      "metadata": {
        "id": "66975503-004",
        "colab_type": "code"
      },
      "source": [
        "CLOUD_PROJECT = 'PASTE PROJECT ID HERE'\n",
        "\n",
        "print(\"Cloud Project Set To: %s\" % CLOUD_PROJECT)\n"
      ]
    },
    {
      "cell_type": "markdown",
      "metadata": {
        "id": "66975503-005",
        "colab_type": "text"
      },
      "source": [
        "#3. Get Client Credentials\n",
        "To read and write to various endpoints requires [downloading client credentials](https://github.com/google/starthinker/blob/master/tutorials/cloud_client_installed.md), this only needs to be done once, then click play.\n"
      ]
    },
    {
      "cell_type": "code",
      "metadata": {
        "id": "66975503-006",
        "colab_type": "code"
      },
      "source": [
        "CLIENT_CREDENTIALS = 'PASTE CREDENTIALS HERE'\n",
        "\n",
        "print(\"Client Credentials Set To: %s\" % CLIENT_CREDENTIALS)\n"
      ]
    },
    {
      "cell_type": "markdown",
      "metadata": {
        "id": "66975503-007",
        "colab_type": "text"
      },
      "source": [
        "#4. Enter Airflow Composer Example Parameters\n",
        "Demonstration that uses Airflow/Composer native, Airflow/Composer local, and StarThinker tasks in the same generated DAG.\n",
        " 1. Execute this using Airflow or Composer, the Colab and UI recipe is for refence only.\n",
        " 1. This is an example DAG that will execute and print dates and text.\n",
        " 1. Run it once to ensure everything works, then customize it.\n",
        "Modify the values below for your use case, can be done multiple times, then click play.\n"
      ]
    },
    {
      "cell_type": "code",
      "metadata": {
        "id": "66975503-008",
        "colab_type": "code"
      },
      "source": [
        "FIELDS = {\n",
        "  'auth_read': 'user',  # Credentials used for reading data.\n",
        "}\n",
        "\n",
        "print(\"Parameters Set To: %s\" % FIELDS)\n"
      ]
    },
    {
      "cell_type": "markdown",
      "metadata": {
        "id": "66975503-009",
        "colab_type": "text"
      },
      "source": [
        "#5. Execute Airflow Composer Example\n",
        "This does NOT need to be modified unless you are changing the recipe, click play.\n"
      ]
    },
    {
      "cell_type": "code",
      "metadata": {
        "id": "66975503-010",
        "colab_type": "code"
      },
      "source": [
        "from starthinker.util.project import project\n",
        "from starthinker.script.parse import json_set_fields\n",
        "\n",
        "USER_CREDENTIALS = '/content/user.json'\n",
        "\n",
        "TASKS = [\n",
        "  {\n",
        "    'airflow': {\n",
        "      '__comment__': 'Calls a native Airflow operator.',\n",
        "      'operators': {\n",
        "        'bash_operator': {\n",
        "          'BashOperator': {\n",
        "            'bash_command': 'date'\n",
        "          }\n",
        "        }\n",
        "      }\n",
        "    }\n",
        "  },\n",
        "  {\n",
        "    'starthinker.airflow': {\n",
        "      '__comment__': 'Calls an custom operator, requires import of library.',\n",
        "      'operators': {\n",
        "        'hello': {\n",
        "          'Hello': {\n",
        "            'say': 'Hi, there!'\n",
        "          }\n",
        "        }\n",
        "      }\n",
        "    }\n",
        "  },\n",
        "  {\n",
        "    'hello': {\n",
        "      '__comment__': 'Calls a StarThinker task.',\n",
        "      'auth': 'user',\n",
        "      'say': 'Hello World'\n",
        "    }\n",
        "  }\n",
        "]\n",
        "\n",
        "json_set_fields(TASKS, FIELDS)\n",
        "\n",
        "project.initialize(_recipe={ 'tasks':TASKS }, _project=CLOUD_PROJECT, _user=USER_CREDENTIALS, _client=CLIENT_CREDENTIALS, _verbose=True, _force=True)\n",
        "project.execute(_force=True)\n"
      ]
    }
  ]
}
