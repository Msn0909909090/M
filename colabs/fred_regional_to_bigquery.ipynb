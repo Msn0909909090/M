{
  "license": "Licensed under the Apache License, Version 2.0",
  "copyright": "Copyright 2020 Google LLC",
  "nbformat": 4,
  "nbformat_minor": 0,
  "metadata": {
    "colab": {
      "name": "Federal Reserve Regional Data",
      "provenance": [],
      "collapsed_sections": [],
      "toc_visible": true
    },
    "kernelspec": {
      "name": "python3",
      "display_name": "Python 3"
    }
  },
  "cells": [
    {
      "cell_type": "markdown",
      "metadata": {
        "id": "17e2f1bb-001",
        "colab_type": "text"
      },
      "source": [
        "#1. Install Dependencies\n",
        "First install the libraries needed to execute recipes, this only needs to be done once, then click play.\n"
      ]
    },
    {
      "cell_type": "code",
      "metadata": {
        "id": "17e2f1bb-002",
        "colab_type": "code"
      },
      "source": [
        "!pip install git+https://github.com/google/starthinker\n"
      ]
    },
    {
      "cell_type": "markdown",
      "metadata": {
        "id": "17e2f1bb-003",
        "colab_type": "text"
      },
      "source": [
        "#2. Get Cloud Project ID\n",
        "To run this recipe [requires a Google Cloud Project](https://github.com/google/starthinker/blob/master/tutorials/cloud_project.md), this only needs to be done once, then click play.\n"
      ]
    },
    {
      "cell_type": "code",
      "metadata": {
        "id": "17e2f1bb-004",
        "colab_type": "code"
      },
      "source": [
        "CLOUD_PROJECT = 'PASTE PROJECT ID HERE'\n",
        "\n",
        "print(\"Cloud Project Set To: %s\" % CLOUD_PROJECT)\n"
      ]
    },
    {
      "cell_type": "markdown",
      "metadata": {
        "id": "17e2f1bb-005",
        "colab_type": "text"
      },
      "source": [
        "#3. Get Client Credentials\n",
        "To read and write to various endpoints requires [downloading client credentials](https://github.com/google/starthinker/blob/master/tutorials/cloud_client_installed.md), this only needs to be done once, then click play.\n"
      ]
    },
    {
      "cell_type": "code",
      "metadata": {
        "id": "17e2f1bb-006",
        "colab_type": "code"
      },
      "source": [
        "CLIENT_CREDENTIALS = 'PASTE CREDENTIALS HERE'\n",
        "\n",
        "print(\"Client Credentials Set To: %s\" % CLIENT_CREDENTIALS)\n"
      ]
    },
    {
      "cell_type": "markdown",
      "metadata": {
        "id": "17e2f1bb-007",
        "colab_type": "text"
      },
      "source": [
        "#4. Enter Federal Reserve Regional Data Parameters\n",
        "Download federal reserve region.\n",
        " 1. Specify the values for a <a href='https://research.stlouisfed.org/docs/api/geofred/regional_data.html' target='_blank'>Fred observations API call</a>.\n",
        " 1. A table will appear in the dataset.\n",
        "Modify the values below for your use case, can be done multiple times, then click play.\n"
      ]
    },
    {
      "cell_type": "code",
      "metadata": {
        "id": "17e2f1bb-008",
        "colab_type": "code"
      },
      "source": [
        "FIELDS = {\n",
        "  'auth': 'service',  # Credentials used for writing data.\n",
        "  'fred_api_key': '',  # 32 character alpha-numeric lowercase string.\n",
        "  'fred_series_group': '',  # The ID for a group of seriess found in GeoFRED.\n",
        "  'fred_region_type': 'county',  # The region you want want to pull data for.\n",
        "  'fred_units': 'lin',  # A key that indicates a data value transformation.\n",
        "  'fred_frequency': '',  # An optional parameter that indicates a lower frequency to aggregate values to.\n",
        "  'fred_season': 'SA',  # The seasonality of the series group.\n",
        "  'fred_aggregation_method': 'avg',  # A key that indicates the aggregation method used for frequency aggregation.\n",
        "  'project': '',  # Existing BigQuery project.\n",
        "  'dataset': '',  # Existing BigQuery dataset.\n",
        "}\n",
        "\n",
        "print(\"Parameters Set To: %s\" % FIELDS)\n"
      ]
    },
    {
      "cell_type": "markdown",
      "metadata": {
        "id": "17e2f1bb-009",
        "colab_type": "text"
      },
      "source": [
        "#5. Execute Federal Reserve Regional Data\n",
        "This does NOT need to be modified unless you are changing the recipe, click play.\n"
      ]
    },
    {
      "cell_type": "code",
      "metadata": {
        "id": "17e2f1bb-010",
        "colab_type": "code"
      },
      "source": [
        "from starthinker.util.project import project\n",
        "from starthinker.script.parse import json_set_fields\n",
        "\n",
        "USER_CREDENTIALS = '/content/user.json'\n",
        "\n",
        "TASKS = [\n",
        "  {\n",
        "    'fred': {\n",
        "      'auth': 'user',\n",
        "      'api_key': {'field': {'name': 'fred_api_key','kind': 'string','order': 1,'default': '','description': '32 character alpha-numeric lowercase string.'}},\n",
        "      'frequency': {'field': {'name': 'fred_frequency','kind': 'choice','order': 4,'default': '','description': 'An optional parameter that indicates a lower frequency to aggregate values to.','choices': ['','d','w','bw','m','q','sa','a','wef','weth','wew','wetu','wem','wesu','wesa','bwew','bwem']}},\n",
        "      'region_type': {'field': {'name': 'fred_region_type','kind': 'choice','order': 3,'default': 'county','description': 'The region you want want to pull data for.','choices': ['bea','msa','frb','necta','state','country','county','censusregion']}},\n",
        "      'regions': [\n",
        "        {\n",
        "          'series_group': {'field': {'name': 'fred_series_group','kind': 'string','order': 2,'default': '','description': 'The ID for a group of seriess found in GeoFRED.'}},\n",
        "          'units': {'field': {'name': 'fred_units','kind': 'choice','order': 3,'default': 'lin','description': 'A key that indicates a data value transformation.','choices': ['lin','chg','ch1','pch','pc1','pca','cch','cca','log']}},\n",
        "          'season': {'field': {'name': 'fred_season','kind': 'choice','order': 4,'default': 'SA','description': 'The seasonality of the series group.','choices': ['SA','NSA','SSA']}},\n",
        "          'aggregation_method': {'field': {'name': 'fred_aggregation_method','kind': 'choice','order': 5,'default': 'avg','description': 'A key that indicates the aggregation method used for frequency aggregation.','choices': ['avg','sum','eop']}}\n",
        "        }\n",
        "      ],\n",
        "      'out': {\n",
        "        'bigquery': {\n",
        "          'project': {'field': {'name': 'project','kind': 'string','order': 10,'default': '','description': 'Existing BigQuery project.'}},\n",
        "          'dataset': {'field': {'name': 'dataset','kind': 'string','order': 11,'default': '','description': 'Existing BigQuery dataset.'}}\n",
        "        }\n",
        "      }\n",
        "    }\n",
        "  }\n",
        "]\n",
        "\n",
        "json_set_fields(TASKS, FIELDS)\n",
        "\n",
        "project.initialize(_recipe={ 'tasks':TASKS }, _project=CLOUD_PROJECT, _user=USER_CREDENTIALS, _client=CLIENT_CREDENTIALS, _verbose=True, _force=True)\n",
        "project.execute(_force=True)\n"
      ]
    }
  ]
}
