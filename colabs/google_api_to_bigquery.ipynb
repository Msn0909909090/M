{
  "license": "Licensed under the Apache License, Version 2.0",
  "copyright": "Copyright 2020 Google LLC",
  "nbformat": 4,
  "nbformat_minor": 0,
  "metadata": {
    "colab": {
      "name": "Google API To BigQuery",
      "provenance": [],
      "collapsed_sections": [],
      "toc_visible": true
    },
    "kernelspec": {
      "name": "python3",
      "display_name": "Python 3"
    }
  },
  "cells": [
    {
      "cell_type": "markdown",
      "metadata": {
        "id": "ed11ce30-001",
        "colab_type": "text"
      },
      "source": [
        "#1. Install Dependencies\n",
        "First install the libraries needed to execute recipes, this only needs to be done once, then click play.\n"
      ]
    },
    {
      "cell_type": "code",
      "metadata": {
        "id": "ed11ce30-002",
        "colab_type": "code"
      },
      "source": [
        "!pip install git+https://github.com/google/starthinker\n"
      ]
    },
    {
      "cell_type": "markdown",
      "metadata": {
        "id": "ed11ce30-003",
        "colab_type": "text"
      },
      "source": [
        "#2. Get Cloud Project ID\n",
        "To run this recipe [requires a Google Cloud Project](https://github.com/google/starthinker/blob/master/tutorials/cloud_project.md), this only needs to be done once, then click play.\n"
      ]
    },
    {
      "cell_type": "code",
      "metadata": {
        "id": "ed11ce30-004",
        "colab_type": "code"
      },
      "source": [
        "CLOUD_PROJECT = 'PASTE PROJECT ID HERE'\n",
        "\n",
        "print(\"Cloud Project Set To: %s\" % CLOUD_PROJECT)\n"
      ]
    },
    {
      "cell_type": "markdown",
      "metadata": {
        "id": "ed11ce30-005",
        "colab_type": "text"
      },
      "source": [
        "#3. Get Client Credentials\n",
        "To read and write to various endpoints requires [downloading client credentials](https://github.com/google/starthinker/blob/master/tutorials/cloud_client_installed.md), this only needs to be done once, then click play.\n"
      ]
    },
    {
      "cell_type": "code",
      "metadata": {
        "id": "ed11ce30-006",
        "colab_type": "code"
      },
      "source": [
        "CLIENT_CREDENTIALS = 'PASTE CREDENTIALS HERE'\n",
        "\n",
        "print(\"Client Credentials Set To: %s\" % CLIENT_CREDENTIALS)\n"
      ]
    },
    {
      "cell_type": "markdown",
      "metadata": {
        "id": "ed11ce30-007",
        "colab_type": "text"
      },
      "source": [
        "#4. Enter Google API To BigQuery Parameters\n",
        "Execute any Google API function and store results to BigQuery.\n",
        " 1. Enter an api name and version.\n",
        " 1. Specify the function using dot notation.\n",
        " 1. Specify the arguments using json.\n",
        " 1. Iterate is optional, use if API returns a list of items that are not unpacking correctly.\n",
        " 1. The <a href='https://cloud.google.com/docs/authentication/api-keys' target='_blank'>API Key</a> may be required for some calls.\n",
        " 1. The <a href='https://developers.google.com/google-ads/api/docs/first-call/dev-token' target='_blank'>Developer Token</a> may be required for some calls.\n",
        " 1. Give BigQuery dataset and table where response will be written.\n",
        " 1. All API calls are based on <a href='https://developers.google.com/discovery/v1/reference'  target='_blank'>discovery document</a>, for example the <a href='https://developers.google.com/display-video/api/reference/rest/v1/advertisers/list' target='_blank'>Campaign Manager API</a>.\n",
        "Modify the values below for your use case, can be done multiple times, then click play.\n"
      ]
    },
    {
      "cell_type": "code",
      "metadata": {
        "id": "ed11ce30-008",
        "colab_type": "code"
      },
      "source": [
        "FIELDS = {\n",
        "  'auth_read': 'user',  # Credentials used for reading data.\n",
        "  'api': 'displayvideo',  # See developer guide.\n",
        "  'version': 'v1',  # Must be supported version.\n",
        "  'function': 'advertisers.list',  # Full function dot notation path.\n",
        "  'kwargs': {'partnerId': 234340},  # Dictionray object of name value pairs.\n",
        "  'api_key': '',  # Associated with a Google Cloud Project.\n",
        "  'developer_token': '',  # Associated with your organization.\n",
        "  'login_customer_id': '',  # Associated with your Adwords account.\n",
        "  'dataset': '',  # Existing dataset in BigQuery.\n",
        "  'table': '',  # Table to write API call results to.\n",
        "}\n",
        "\n",
        "print(\"Parameters Set To: %s\" % FIELDS)\n"
      ]
    },
    {
      "cell_type": "markdown",
      "metadata": {
        "id": "ed11ce30-009",
        "colab_type": "text"
      },
      "source": [
        "#5. Execute Google API To BigQuery\n",
        "This does NOT need to be modified unless you are changing the recipe, click play.\n"
      ]
    },
    {
      "cell_type": "code",
      "metadata": {
        "id": "ed11ce30-010",
        "colab_type": "code"
      },
      "source": [
        "from starthinker.util.project import project\n",
        "from starthinker.script.parse import json_set_fields\n",
        "\n",
        "USER_CREDENTIALS = '/content/user.json'\n",
        "\n",
        "TASKS = [\n",
        "  {\n",
        "    'google_api': {\n",
        "      'auth': 'user',\n",
        "      'api': {'field': {'name': 'api','kind': 'string','order': 1,'default': 'displayvideo','description': 'See developer guide.'}},\n",
        "      'version': {'field': {'name': 'version','kind': 'string','order': 2,'default': 'v1','description': 'Must be supported version.'}},\n",
        "      'function': {'field': {'name': 'function','kind': 'string','order': 3,'default': 'advertisers.list','description': 'Full function dot notation path.'}},\n",
        "      'kwargs': {'field': {'name': 'kwargs','kind': 'json','order': 4,'default': {'partnerId': 234340},'description': 'Dictionray object of name value pairs.'}},\n",
        "      'key': {'field': {'name': 'api_key','kind': 'string','order': 4,'default': '','description': 'Associated with a Google Cloud Project.'}},\n",
        "      'headers': {\n",
        "        'developer-token': {'field': {'name': 'developer_token','kind': 'string','order': 5,'default': '','description': 'Associated with your organization.'}},\n",
        "        'login-customer-id': {'field': {'name': 'login_customer_id','kind': 'string','order': 6,'default': '','description': 'Associated with your Adwords account.'}}\n",
        "      },\n",
        "      'results': {\n",
        "        'bigquery': {\n",
        "          'dataset': {'field': {'name': 'dataset','kind': 'string','order': 7,'default': '','description': 'Existing dataset in BigQuery.'}},\n",
        "          'table': {'field': {'name': 'table','kind': 'string','order': 8,'default': '','description': 'Table to write API call results to.'}}\n",
        "        }\n",
        "      }\n",
        "    }\n",
        "  }\n",
        "]\n",
        "\n",
        "json_set_fields(TASKS, FIELDS)\n",
        "\n",
        "project.initialize(_recipe={ 'tasks':TASKS }, _project=CLOUD_PROJECT, _user=USER_CREDENTIALS, _client=CLIENT_CREDENTIALS, _verbose=True, _force=True)\n",
        "project.execute(_force=True)\n"
      ]
    }
  ]
}
