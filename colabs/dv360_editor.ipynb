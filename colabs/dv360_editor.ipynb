{
  "license": "Licensed under the Apache License, Version 2.0",
  "copyright": "Copyright 2020 Google LLC",
  "nbformat": 4,
  "nbformat_minor": 0,
  "metadata": {
    "colab": {
      "name": "DV360 Bulk Editor",
      "provenance": [],
      "collapsed_sections": [],
      "toc_visible": true
    },
    "kernelspec": {
      "name": "python3",
      "display_name": "Python 3"
    }
  },
  "cells": [
    {
      "cell_type": "markdown",
      "metadata": {
        "id": "79c92926-001",
        "colab_type": "text"
      },
      "source": [
        "#1. Install Dependencies\n",
        "First install the libraries needed to execute recipes, this only needs to be done once, then click play.\n"
      ]
    },
    {
      "cell_type": "code",
      "metadata": {
        "id": "79c92926-002",
        "colab_type": "code"
      },
      "source": [
        "!pip install git+https://github.com/google/starthinker\n"
      ]
    },
    {
      "cell_type": "markdown",
      "metadata": {
        "id": "79c92926-003",
        "colab_type": "text"
      },
      "source": [
        "#2. Get Cloud Project ID\n",
        "To run this recipe [requires a Google Cloud Project](https://github.com/google/starthinker/blob/master/tutorials/cloud_project.md), this only needs to be done once, then click play.\n"
      ]
    },
    {
      "cell_type": "code",
      "metadata": {
        "id": "79c92926-004",
        "colab_type": "code"
      },
      "source": [
        "CLOUD_PROJECT = 'PASTE PROJECT ID HERE'\n",
        "\n",
        "print(\"Cloud Project Set To: %s\" % CLOUD_PROJECT)\n"
      ]
    },
    {
      "cell_type": "markdown",
      "metadata": {
        "id": "79c92926-005",
        "colab_type": "text"
      },
      "source": [
        "#3. Get Client Credentials\n",
        "To read and write to various endpoints requires [downloading client credentials](https://github.com/google/starthinker/blob/master/tutorials/cloud_client_installed.md), this only needs to be done once, then click play.\n"
      ]
    },
    {
      "cell_type": "code",
      "metadata": {
        "id": "79c92926-006",
        "colab_type": "code"
      },
      "source": [
        "CLIENT_CREDENTIALS = 'PASTE CREDENTIALS HERE'\n",
        "\n",
        "print(\"Client Credentials Set To: %s\" % CLIENT_CREDENTIALS)\n"
      ]
    },
    {
      "cell_type": "markdown",
      "metadata": {
        "id": "79c92926-007",
        "colab_type": "text"
      },
      "source": [
        "#4. Enter DV360 Bulk Editor Parameters\n",
        "Allows bulk editing DV360 through Sheets and BigQuery.\n",
        " 1. Select <b>Load Partners</b>, <b>save</b> the recipe, then run. A Sheet called DV_Sheet_UNDEFINED will be created.\n",
        " 1. In the 'Partners' sheet tab, fill in <i>Partners</i> tab filter.\n",
        " 1. Select <b>Load Advertisers</b>, <b>save</b> the recipe, then run.\n",
        " 1. In the 'Advertisers' sheet tab, fill in <i>Advertisers</i> tab filter.\n",
        " 1. Select <b>Load Campaigns</b>, <b>save</b> the recipe, then run. Filtering by campaigns is optional.\n",
        " 1. Now, select <b>Load Insertion Orders and Line Items</b>, <b>save</b> the recipe, then run.\n",
        " 1. To patch, fill in changes on all tabs with colored fields.\n",
        " 1. Select <i>Preview</i>, <b>save</b> the recipe, then run the recipe.\n",
        " 1. Check the <b>Audit</b> and <b>Preview</b> tabs.\n",
        " 1. To Patch, select <i>Patch</i>, <b>save</b> the recipe, then run.\n",
        " 1. Check the <b>Success</b> and <b>Error</b> tabs.\n",
        " 1. Patch can be run multiple times.\n",
        " 1. Patch ONLY changes edited fields.\n",
        "Modify the values below for your use case, can be done multiple times, then click play.\n"
      ]
    },
    {
      "cell_type": "code",
      "metadata": {
        "id": "79c92926-008",
        "colab_type": "code"
      },
      "source": [
        "FIELDS = {\n",
        "  'auth_dv': 'user',  # Credentials used for dv.\n",
        "  'auth_sheet': 'user',  # Credentials used for sheet.\n",
        "  'auth_bigquery': 'service',  # Credentials used for bigquery.\n",
        "  'recipe_slug': '',  # Name of Google BigQuery dataset to create.\n",
        "  'command': 'Load Partners',  # Action to take.\n",
        "}\n",
        "\n",
        "print(\"Parameters Set To: %s\" % FIELDS)\n"
      ]
    },
    {
      "cell_type": "markdown",
      "metadata": {
        "id": "79c92926-009",
        "colab_type": "text"
      },
      "source": [
        "#5. Execute DV360 Bulk Editor\n",
        "This does NOT need to be modified unless you are changing the recipe, click play.\n"
      ]
    },
    {
      "cell_type": "code",
      "metadata": {
        "id": "79c92926-010",
        "colab_type": "code"
      },
      "source": [
        "from starthinker.util.project import project\n",
        "from starthinker.script.parse import json_set_fields\n",
        "\n",
        "USER_CREDENTIALS = '/content/user.json'\n",
        "\n",
        "TASKS = [\n",
        "  {\n",
        "    'dataset': {\n",
        "      '__comment__': 'Ensure dataset exists.',\n",
        "      'auth': 'user',\n",
        "      'dataset': {'field': {'name': 'recipe_slug','prefix': 'DV_Sheet_','kind': 'string','order': 2,'default': '','description': 'Name of Google BigQuery dataset to create.'}}\n",
        "    }\n",
        "  },\n",
        "  {\n",
        "    'drive': {\n",
        "      '__comment__': 'Copy the default template to sheet with the recipe name',\n",
        "      'auth': 'user',\n",
        "      'copy': {\n",
        "        'source': 'https://docs.google.com/spreadsheets/d/18G6cGo4j5SsY08H8P53R22D_Pm6m-zkE6APd3EDLf2c/',\n",
        "        'destination': {'field': {'name': 'recipe_slug','prefix': 'DV Sheet ','kind': 'string','order': 3,'default': '','description': 'Name of Google Sheet to create.'}}\n",
        "      }\n",
        "    }\n",
        "  },\n",
        "  {\n",
        "    'dv_editor': {\n",
        "      '__comment': 'Depending on users choice, execute a different part of the solution.',\n",
        "      'auth_dv': {'field': {'name': 'auth_dv','kind': 'authentication','order': 1,'default': 'user','description': 'Credentials used for dv.'}},\n",
        "      'auth_sheets': {'field': {'name': 'auth_sheet','kind': 'authentication','order': 2,'default': 'user','description': 'Credentials used for sheet.'}},\n",
        "      'auth_bigquery': {'field': {'name': 'auth_bigquery','kind': 'authentication','order': 3,'default': 'service','description': 'Credentials used for bigquery.'}},\n",
        "      'sheet': {'field': {'name': 'recipe_slug','prefix': 'DV Sheet ','kind': 'string','order': 4,'default': '','description': 'Name of Google Sheet to create.'}},\n",
        "      'dataset': {'field': {'name': 'recipe_slug','prefix': 'DV_Sheet_','kind': 'string','order': 5,'default': '','description': 'Name of Google BigQuery dataset to create.'}},\n",
        "      'command': {'field': {'name': 'command','kind': 'choice','choices': ['Clear Partners','Clear Advertisers','Clear Campaigns','Clear Creatives','Clear Insertion Orders','Clear Line Items','Clear Preview','Clear Patch','Load Partners','Load Advertisers','Load Campaigns','Load Creatives','Load Insertion Orders','Load Line Items','Load Insertion Orders and Line Items','Preview','Patch'],'order': 6,'default': 'Load Partners','description': 'Action to take.'}}\n",
        "    }\n",
        "  }\n",
        "]\n",
        "\n",
        "json_set_fields(TASKS, FIELDS)\n",
        "\n",
        "project.initialize(_recipe={ 'tasks':TASKS }, _project=CLOUD_PROJECT, _user=USER_CREDENTIALS, _client=CLIENT_CREDENTIALS, _verbose=True, _force=True)\n",
        "project.execute(_force=True)\n"
      ]
    }
  ]
}
